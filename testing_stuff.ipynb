{
 "cells": [
  {
   "cell_type": "code",
   "execution_count": null,
   "metadata": {},
   "outputs": [],
   "source": [
    "sp500_historical = pd.read_csv('Resources/' + files[4], \n",
    "                               index_col='Date', \n",
    "                               parse_dates=True, \n",
    "                               infer_datetime_format=True).sort_index()\n",
    "\n",
    "algo_returns = pd.read_csv('Resources/' + files[1], \n",
    "                           index_col='Date', \n",
    "                           parse_dates=True, \n",
    "                           infer_datetime_format=True).sort_index()\n",
    "whale_returns = pd.read_csv('Resources/' + files[5], \n",
    "                            index_col='Date', \n",
    "                            parse_dates=True, \n",
    "                            infer_datetime_format=True).sort_index()"
   ]
  }
 ],
 "metadata": {
  "kernelspec": {
   "display_name": "Python 3",
   "language": "python",
   "name": "python3"
  },
  "language_info": {
   "codemirror_mode": {
    "name": "ipython",
    "version": 3
   },
   "file_extension": ".py",
   "mimetype": "text/x-python",
   "name": "python",
   "nbconvert_exporter": "python",
   "pygments_lexer": "ipython3",
   "version": "3.7.0"
  }
 },
 "nbformat": 4,
 "nbformat_minor": 4
}
