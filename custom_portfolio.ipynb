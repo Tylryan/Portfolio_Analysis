{
 "cells": [
  {
   "cell_type": "code",
   "execution_count": 42,
   "metadata": {},
   "outputs": [],
   "source": [
    "#"
   ]
  },
  {
   "cell_type": "code",
   "execution_count": 53,
   "metadata": {},
   "outputs": [
    {
     "ename": "ModuleNotFoundError",
     "evalue": "No module named 'main_jupyter'",
     "output_type": "error",
     "traceback": [
      "\u001b[1;31m---------------------------------------------------------------------------\u001b[0m",
      "\u001b[1;31mModuleNotFoundError\u001b[0m                       Traceback (most recent call last)",
      "\u001b[1;32m<ipython-input-53-ef28e570badf>\u001b[0m in \u001b[0;36m<module>\u001b[1;34m()\u001b[0m\n\u001b[0;32m      5\u001b[0m \u001b[1;32mimport\u001b[0m \u001b[0mseaborn\u001b[0m \u001b[1;32mas\u001b[0m \u001b[0msns\u001b[0m\u001b[1;33m\u001b[0m\u001b[0m\n\u001b[0;32m      6\u001b[0m \u001b[1;32mimport\u001b[0m \u001b[0mos\u001b[0m\u001b[1;33m\u001b[0m\u001b[0m\n\u001b[1;32m----> 7\u001b[1;33m \u001b[1;32mfrom\u001b[0m \u001b[0mmain_jupyter\u001b[0m\u001b[1;33m.\u001b[0m\u001b[0mipynb\u001b[0m \u001b[1;32mimport\u001b[0m \u001b[0mcombined_return_df\u001b[0m\u001b[1;33m\u001b[0m\u001b[0m\n\u001b[0m\u001b[0;32m      8\u001b[0m \u001b[0mget_ipython\u001b[0m\u001b[1;33m(\u001b[0m\u001b[1;33m)\u001b[0m\u001b[1;33m.\u001b[0m\u001b[0mmagic\u001b[0m\u001b[1;33m(\u001b[0m\u001b[1;34m'matplotlib inline'\u001b[0m\u001b[1;33m)\u001b[0m\u001b[1;33m\u001b[0m\u001b[0m\n",
      "\u001b[1;31mModuleNotFoundError\u001b[0m: No module named 'main_jupyter'"
     ]
    }
   ],
   "source": [
    "import pandas as pd\n",
    "import numpy as np\n",
    "import matplotlib.pyplot as plt\n",
    "from pathlib import Path\n",
    "import seaborn as sns\n",
    "import os\n",
    "%matplotlib inline"
   ]
  },
  {
   "cell_type": "code",
   "execution_count": 44,
   "metadata": {},
   "outputs": [
    {
     "name": "stdout",
     "output_type": "stream",
     "text": [
      "['AXP.csv', 'CHGG.csv', 'EA.csv', 'PGR.csv', 'SPX.csv', 'SPYG.csv']\n"
     ]
    }
   ],
   "source": [
    "files = [file for file in os.listdir('Custom_Portfolio//')]\n",
    "print(files)"
   ]
  },
  {
   "cell_type": "code",
   "execution_count": 45,
   "metadata": {},
   "outputs": [],
   "source": [
    "axp_df = pd.read_csv('Custom_Portfolio/' + files[0], \n",
    "                               index_col='Date', \n",
    "                               parse_dates=True, \n",
    "                               infer_datetime_format=True).sort_index()\n",
    "\n",
    "chgg_df = pd.read_csv('Custom_Portfolio/' + files[1], \n",
    "                           index_col='Date', \n",
    "                           parse_dates=True, \n",
    "                           infer_datetime_format=True).sort_index()\n",
    "ea_df = pd.read_csv('Custom_Portfolio/' + files[2], \n",
    "                            index_col='Date', \n",
    "                            parse_dates=True, \n",
    "                            infer_datetime_format=True).sort_index()\n",
    "\n",
    "pgr_df = pd.read_csv('Custom_Portfolio/' + files[3], \n",
    "                            index_col='Date', \n",
    "                            parse_dates=True, \n",
    "                            infer_datetime_format=True).sort_index()\n",
    "spx_df =  pd.read_csv('Custom_Portfolio/' + files[4], \n",
    "                            index_col='Date', \n",
    "                            parse_dates=True, \n",
    "                            infer_datetime_format=True).sort_index()\n",
    "spyg_df = pd.read_csv('Custom_Portfolio/' + files[5], \n",
    "                            index_col='Date', \n",
    "                            parse_dates=True, \n",
    "                            infer_datetime_format=True).sort_index()"
   ]
  },
  {
   "cell_type": "code",
   "execution_count": 50,
   "metadata": {},
   "outputs": [
    {
     "data": {
      "text/html": [
       "<div>\n",
       "<style scoped>\n",
       "    .dataframe tbody tr th:only-of-type {\n",
       "        vertical-align: middle;\n",
       "    }\n",
       "\n",
       "    .dataframe tbody tr th {\n",
       "        vertical-align: top;\n",
       "    }\n",
       "\n",
       "    .dataframe thead th {\n",
       "        text-align: right;\n",
       "    }\n",
       "</style>\n",
       "<table border=\"1\" class=\"dataframe\">\n",
       "  <thead>\n",
       "    <tr style=\"text-align: right;\">\n",
       "      <th></th>\n",
       "      <th>AXP</th>\n",
       "      <th>CHGG</th>\n",
       "      <th>EA</th>\n",
       "      <th>PGR</th>\n",
       "      <th>SPYG</th>\n",
       "      <th>SPX</th>\n",
       "    </tr>\n",
       "    <tr>\n",
       "      <th>Date</th>\n",
       "      <th></th>\n",
       "      <th></th>\n",
       "      <th></th>\n",
       "      <th></th>\n",
       "      <th></th>\n",
       "      <th></th>\n",
       "    </tr>\n",
       "  </thead>\n",
       "  <tbody>\n",
       "    <tr>\n",
       "      <th>2020-01-02 16:00:00</th>\n",
       "      <td>125.85</td>\n",
       "      <td>39.03</td>\n",
       "      <td>107.34</td>\n",
       "      <td>74.33</td>\n",
       "      <td>42.50</td>\n",
       "      <td>3257.85</td>\n",
       "    </tr>\n",
       "    <tr>\n",
       "      <th>2020-01-03 16:00:00</th>\n",
       "      <td>124.60</td>\n",
       "      <td>38.31</td>\n",
       "      <td>107.20</td>\n",
       "      <td>74.32</td>\n",
       "      <td>42.19</td>\n",
       "      <td>3234.85</td>\n",
       "    </tr>\n",
       "    <tr>\n",
       "      <th>2020-01-06 16:00:00</th>\n",
       "      <td>124.06</td>\n",
       "      <td>38.88</td>\n",
       "      <td>108.78</td>\n",
       "      <td>75.67</td>\n",
       "      <td>42.39</td>\n",
       "      <td>3246.28</td>\n",
       "    </tr>\n",
       "    <tr>\n",
       "      <th>2020-01-07 16:00:00</th>\n",
       "      <td>123.41</td>\n",
       "      <td>39.44</td>\n",
       "      <td>108.39</td>\n",
       "      <td>72.76</td>\n",
       "      <td>42.35</td>\n",
       "      <td>3237.18</td>\n",
       "    </tr>\n",
       "    <tr>\n",
       "      <th>2020-01-08 16:00:00</th>\n",
       "      <td>125.54</td>\n",
       "      <td>40.10</td>\n",
       "      <td>109.49</td>\n",
       "      <td>73.19</td>\n",
       "      <td>42.62</td>\n",
       "      <td>3253.05</td>\n",
       "    </tr>\n",
       "  </tbody>\n",
       "</table>\n",
       "</div>"
      ],
      "text/plain": [
       "                        AXP   CHGG      EA    PGR   SPYG      SPX\n",
       "Date                                                             \n",
       "2020-01-02 16:00:00  125.85  39.03  107.34  74.33  42.50  3257.85\n",
       "2020-01-03 16:00:00  124.60  38.31  107.20  74.32  42.19  3234.85\n",
       "2020-01-06 16:00:00  124.06  38.88  108.78  75.67  42.39  3246.28\n",
       "2020-01-07 16:00:00  123.41  39.44  108.39  72.76  42.35  3237.18\n",
       "2020-01-08 16:00:00  125.54  40.10  109.49  73.19  42.62  3253.05"
      ]
     },
     "execution_count": 50,
     "metadata": {},
     "output_type": "execute_result"
    }
   ],
   "source": [
    "portfolio_df = pd.DataFrame(pd.concat([axp_df,chgg_df,ea_df,pgr_df,spyg_df], axis = 'columns', join = 'inner'))\n",
    "portfolio_df.columns = ['AXP','CHGG','EA','PGR','SPYG']\n",
    "portfolio_df.head()"
   ]
  },
  {
   "cell_type": "code",
   "execution_count": 51,
   "metadata": {},
   "outputs": [
    {
     "data": {
      "text/html": [
       "<div>\n",
       "<style scoped>\n",
       "    .dataframe tbody tr th:only-of-type {\n",
       "        vertical-align: middle;\n",
       "    }\n",
       "\n",
       "    .dataframe tbody tr th {\n",
       "        vertical-align: top;\n",
       "    }\n",
       "\n",
       "    .dataframe thead th {\n",
       "        text-align: right;\n",
       "    }\n",
       "</style>\n",
       "<table border=\"1\" class=\"dataframe\">\n",
       "  <thead>\n",
       "    <tr style=\"text-align: right;\">\n",
       "      <th></th>\n",
       "      <th>AXP</th>\n",
       "      <th>CHGG</th>\n",
       "      <th>EA</th>\n",
       "      <th>PGR</th>\n",
       "      <th>SPYG</th>\n",
       "      <th>SPX</th>\n",
       "    </tr>\n",
       "    <tr>\n",
       "      <th>Date</th>\n",
       "      <th></th>\n",
       "      <th></th>\n",
       "      <th></th>\n",
       "      <th></th>\n",
       "      <th></th>\n",
       "      <th></th>\n",
       "    </tr>\n",
       "  </thead>\n",
       "  <tbody>\n",
       "    <tr>\n",
       "      <th>2020-01-03 16:00:00</th>\n",
       "      <td>-0.009932</td>\n",
       "      <td>-0.018447</td>\n",
       "      <td>-0.001304</td>\n",
       "      <td>-0.000135</td>\n",
       "      <td>-0.007294</td>\n",
       "      <td>-0.007060</td>\n",
       "    </tr>\n",
       "    <tr>\n",
       "      <th>2020-01-06 16:00:00</th>\n",
       "      <td>-0.004334</td>\n",
       "      <td>0.014879</td>\n",
       "      <td>0.014739</td>\n",
       "      <td>0.018165</td>\n",
       "      <td>0.004740</td>\n",
       "      <td>0.003533</td>\n",
       "    </tr>\n",
       "    <tr>\n",
       "      <th>2020-01-07 16:00:00</th>\n",
       "      <td>-0.005239</td>\n",
       "      <td>0.014403</td>\n",
       "      <td>-0.003585</td>\n",
       "      <td>-0.038456</td>\n",
       "      <td>-0.000944</td>\n",
       "      <td>-0.002803</td>\n",
       "    </tr>\n",
       "    <tr>\n",
       "      <th>2020-01-08 16:00:00</th>\n",
       "      <td>0.017260</td>\n",
       "      <td>0.016734</td>\n",
       "      <td>0.010149</td>\n",
       "      <td>0.005910</td>\n",
       "      <td>0.006375</td>\n",
       "      <td>0.004902</td>\n",
       "    </tr>\n",
       "    <tr>\n",
       "      <th>2020-01-09 16:00:00</th>\n",
       "      <td>0.018082</td>\n",
       "      <td>0.009726</td>\n",
       "      <td>-0.001187</td>\n",
       "      <td>0.010247</td>\n",
       "      <td>0.009855</td>\n",
       "      <td>0.006655</td>\n",
       "    </tr>\n",
       "  </tbody>\n",
       "</table>\n",
       "</div>"
      ],
      "text/plain": [
       "                          AXP      CHGG        EA       PGR      SPYG  \\\n",
       "Date                                                                    \n",
       "2020-01-03 16:00:00 -0.009932 -0.018447 -0.001304 -0.000135 -0.007294   \n",
       "2020-01-06 16:00:00 -0.004334  0.014879  0.014739  0.018165  0.004740   \n",
       "2020-01-07 16:00:00 -0.005239  0.014403 -0.003585 -0.038456 -0.000944   \n",
       "2020-01-08 16:00:00  0.017260  0.016734  0.010149  0.005910  0.006375   \n",
       "2020-01-09 16:00:00  0.018082  0.009726 -0.001187  0.010247  0.009855   \n",
       "\n",
       "                          SPX  \n",
       "Date                           \n",
       "2020-01-03 16:00:00 -0.007060  \n",
       "2020-01-06 16:00:00  0.003533  \n",
       "2020-01-07 16:00:00 -0.002803  \n",
       "2020-01-08 16:00:00  0.004902  \n",
       "2020-01-09 16:00:00  0.006655  "
      ]
     },
     "execution_count": 51,
     "metadata": {},
     "output_type": "execute_result"
    }
   ],
   "source": [
    "portfolio_returns = portfolio_df.pct_change().dropna()\n",
    "portfolio_returns.head()"
   ]
  },
  {
   "cell_type": "code",
   "execution_count": null,
   "metadata": {},
   "outputs": [],
   "source": [
    "weights = [0.2,0.2,0.2,0.2,0.2]\n"
   ]
  }
 ],
 "metadata": {
  "kernelspec": {
   "display_name": "Python 3",
   "language": "python",
   "name": "python3"
  },
  "language_info": {
   "codemirror_mode": {
    "name": "ipython",
    "version": 3
   },
   "file_extension": ".py",
   "mimetype": "text/x-python",
   "name": "python",
   "nbconvert_exporter": "python",
   "pygments_lexer": "ipython3",
   "version": "3.7.0"
  }
 },
 "nbformat": 4,
 "nbformat_minor": 4
}
